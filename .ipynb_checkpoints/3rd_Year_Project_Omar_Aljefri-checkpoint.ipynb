{
 "cells": [
  {
   "cell_type": "markdown",
   "id": "f9fcdf24",
   "metadata": {},
   "source": [
    "# Network Anomaly Detection Using Machine Learning"
   ]
  },
  {
   "cell_type": "markdown",
   "id": "73bc982f",
   "metadata": {},
   "source": [
    "<a id='top'></a>\n",
    "<div class=\"list-group\" id=\"list-tab\" role=\"tablist\">\n",
    "    \n",
    "<h1 style=\"padding: 10px;color:white; display:fill;background-color:#303090; border-radius:5px; font-size:190%\"><b> Table of contents </b></h1>\n",
    "\n",
    "\n",
    " - [**Import and Set Up**](#2)\n",
    " \n",
    " - [**Pre-processing and feature selection**](#3)\n",
    "    \n",
    " - [**Modelling and Evaluation**](#4)\n",
    "    - [**Random Forest**](#4_1)\n",
    "    - [**LSTM (Keras)**](#4_2)\n",
    "    \n",
    " - [**Evaluate**](#5)"
   ]
  },
  {
   "cell_type": "markdown",
   "id": "d10a5e2b",
   "metadata": {},
   "source": [
    "<a id='2'></a>\n",
    "# <p style=\"padding: 10px;color:white; display:fill;background-color:#303090; border-radius:5px; font-size:80%\"> <b>Import and Set up</b>"
   ]
  },
  {
   "cell_type": "code",
   "execution_count": null,
   "id": "f390db1a",
   "metadata": {},
   "outputs": [],
   "source": []
  }
 ],
 "metadata": {
  "kernelspec": {
   "display_name": "Python 3 (ipykernel)",
   "language": "python",
   "name": "python3"
  },
  "language_info": {
   "codemirror_mode": {
    "name": "ipython",
    "version": 3
   },
   "file_extension": ".py",
   "mimetype": "text/x-python",
   "name": "python",
   "nbconvert_exporter": "python",
   "pygments_lexer": "ipython3",
   "version": "3.9.17"
  }
 },
 "nbformat": 4,
 "nbformat_minor": 5
}
