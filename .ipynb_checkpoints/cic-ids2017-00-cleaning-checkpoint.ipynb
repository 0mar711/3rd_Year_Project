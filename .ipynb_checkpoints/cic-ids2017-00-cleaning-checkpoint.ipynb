{
 "cells": [
  {
   "cell_type": "code",
   "execution_count": 3,
   "id": "59708cc4",
   "metadata": {
    "_cell_guid": "b1076dfc-b9ad-4769-8c92-a6c4dae69d19",
    "_uuid": "8f2839f25d086af736a60e9eeb907d3b93b6e0e5",
    "execution": {
     "iopub.execute_input": "2022-08-08T18:15:16.795357Z",
     "iopub.status.busy": "2022-08-08T18:15:16.794882Z",
     "iopub.status.idle": "2022-08-08T18:15:16.818168Z",
     "shell.execute_reply": "2022-08-08T18:15:16.816809Z"
    },
    "papermill": {
     "duration": 0.035643,
     "end_time": "2022-08-08T18:15:16.821083",
     "exception": false,
     "start_time": "2022-08-08T18:15:16.785440",
     "status": "completed"
    },
    "tags": []
   },
   "outputs": [],
   "source": [
    "# This Python 3 environment comes with many helpful analytics libraries installed\n",
    "# It is defined by the kaggle/python Docker image: https://github.com/kaggle/docker-python\n",
    "# For example, here's several helpful packages to load\n",
    "\n",
    "import numpy as np # linear algebra\n",
    "import pandas as pd # data processing, CSV file I/O (e.g. pd.read_csv)\n",
    "\n",
    "# Input data files are available in the read-only \"../input/\" directory\n",
    "# For example, running this (by clicking run or pressing Shift+Enter) will list all files under the input directory\n",
    "\n",
    "import os\n",
    "dspaths = []\n",
    "for dirname, _, filenames in os.walk('/datasets/'):\n",
    "    for filename in filenames:\n",
    "        if filename.endswith('.csv'):\n",
    "            pds = os.path.join(dirname, filename)\n",
    "            dspaths.append(pds)\n",
    "            print(pds)\n",
    "\n",
    "# You can write up to 20GB to the current directory (/kaggle/working/) that gets preserved as output when you create a version using \"Save & Run All\" \n",
    "# You can also write temporary files to /kaggle/temp/, but they won't be saved outside of the current session"
   ]
  },
  {
   "cell_type": "markdown",
   "id": "427709f6",
   "metadata": {
    "papermill": {
     "duration": 0.006799,
     "end_time": "2022-08-08T18:15:16.834230",
     "exception": false,
     "start_time": "2022-08-08T18:15:16.827431",
     "status": "completed"
    },
    "tags": []
   },
   "source": [
    "# CIC-Collection Cleaning: CIC-IDS2017\n",
    "This notebook presents the cleanup done on CIC-IDS2017, a very popular academic intrusion detection set. IDS2017 is just one dataset in a broader collection. DoS2017, IDS2018 and DDoS2019 also exist with the same featureset. \n",
    "\n",
    "**This cleanup code has been built to yield consistent results across the entire CIC collection with features extracted by CICFlowmeter.**"
   ]
  },
  {
   "cell_type": "code",
   "execution_count": 2,
   "id": "c85adbaa",
   "metadata": {
    "execution": {
     "iopub.execute_input": "2022-08-08T18:15:16.848090Z",
     "iopub.status.busy": "2022-08-08T18:15:16.847684Z",
     "iopub.status.idle": "2022-08-08T18:15:20.351322Z",
     "shell.execute_reply": "2022-08-08T18:15:20.350142Z"
    },
    "papermill": {
     "duration": 3.513735,
     "end_time": "2022-08-08T18:15:20.354118",
     "exception": false,
     "start_time": "2022-08-08T18:15:16.840383",
     "status": "completed"
    },
    "tags": []
   },
   "outputs": [],
   "source": [
    "from fastai.tabular.all import df_shrink\n",
    "from fastcore.parallel import *"
   ]
  },
  {
   "cell_type": "code",
   "execution_count": 3,
   "id": "9f02a31a",
   "metadata": {
    "_kg_hide-input": true,
    "execution": {
     "iopub.execute_input": "2022-08-08T18:15:20.368629Z",
     "iopub.status.busy": "2022-08-08T18:15:20.367641Z",
     "iopub.status.idle": "2022-08-08T18:15:20.387209Z",
     "shell.execute_reply": "2022-08-08T18:15:20.385794Z"
    },
    "papermill": {
     "duration": 0.029914,
     "end_time": "2022-08-08T18:15:20.390002",
     "exception": false,
     "start_time": "2022-08-08T18:15:20.360088",
     "status": "completed"
    },
    "tags": []
   },
   "outputs": [],
   "source": [
    "col_name_consistency = {\n",
    "'Flow ID': 'Flow ID',\n",
    "'Source IP': 'Source IP',\n",
    "'Src IP':  'Source IP',\n",
    "'Source Port': 'Source Port',\n",
    "'Src Port': 'Source Port',\n",
    "'Destination IP': 'Destination IP',\n",
    "'Dst IP': 'Destination IP',\n",
    "'Destination Port': 'Destination Port',\n",
    "'Dst Port': 'Destination Port',\n",
    "'Protocol': 'Protocol',\n",
    "'Timestamp': 'Timestamp',\n",
    "'Flow Duration': 'Flow Duration',\n",
    "'Total Fwd Packets': 'Total Fwd Packets',\n",
    "'Tot Fwd Pkts': 'Total Fwd Packets',\n",
    "'Total Backward Packets': 'Total Backward Packets',\n",
    "'Tot Bwd Pkts': 'Total Backward Packets',\n",
    "'Total Length of Fwd Packets': 'Fwd Packets Length Total',\n",
    "'TotLen Fwd Pkts': 'Fwd Packets Length Total',\n",
    "'Total Length of Bwd Packets': 'Bwd Packets Length Total',\n",
    "'TotLen Bwd Pkts': 'Bwd Packets Length Total',\n",
    "'Fwd Packet Length Max': 'Fwd Packet Length Max',\n",
    "'Fwd Pkt Len Max': 'Fwd Packet Length Max',\n",
    "'Fwd Packet Length Min': 'Fwd Packet Length Min',\n",
    "'Fwd Pkt Len Min': 'Fwd Packet Length Min',\n",
    "'Fwd Packet Length Mean': 'Fwd Packet Length Mean',\n",
    "'Fwd Pkt Len Mean': 'Fwd Packet Length Mean',\n",
    "'Fwd Packet Length Std': 'Fwd Packet Length Std',\n",
    "'Fwd Pkt Len Std': 'Fwd Packet Length Std',\n",
    "'Bwd Packet Length Max': 'Bwd Packet Length Max',\n",
    "'Bwd Pkt Len Max': 'Bwd Packet Length Max',\n",
    "'Bwd Packet Length Min': 'Bwd Packet Length Min',\n",
    "'Bwd Pkt Len Min': 'Bwd Packet Length Min',\n",
    "'Bwd Packet Length Mean': 'Bwd Packet Length Mean',\n",
    "'Bwd Pkt Len Mean': 'Bwd Packet Length Mean',\n",
    "'Bwd Packet Length Std': 'Bwd Packet Length Std',\n",
    "'Bwd Pkt Len Std': 'Bwd Packet Length Std',\n",
    "'Flow Bytes/s': 'Flow Bytes/s',\n",
    "'Flow Byts/s': 'Flow Bytes/s',\n",
    "'Flow Packets/s': 'Flow Packets/s',\n",
    "'Flow Pkts/s': 'Flow Packets/s',\n",
    "'Flow IAT Mean': 'Flow IAT Mean',\n",
    "'Flow IAT Std': 'Flow IAT Std',\n",
    "'Flow IAT Max': 'Flow IAT Max',\n",
    "'Flow IAT Min': 'Flow IAT Min',\n",
    "'Fwd IAT Total': 'Fwd IAT Total',\n",
    "'Fwd IAT Tot': 'Fwd IAT Total',\n",
    "'Fwd IAT Mean': 'Fwd IAT Mean',\n",
    "'Fwd IAT Std': 'Fwd IAT Std',\n",
    "'Fwd IAT Max': 'Fwd IAT Max',\n",
    "'Fwd IAT Min': 'Fwd IAT Min',\n",
    "'Bwd IAT Total': 'Bwd IAT Total',\n",
    "'Bwd IAT Tot': 'Bwd IAT Total',\n",
    "'Bwd IAT Mean': 'Bwd IAT Mean',\n",
    "'Bwd IAT Std': 'Bwd IAT Std',\n",
    "'Bwd IAT Max': 'Bwd IAT Max',\n",
    "'Bwd IAT Min': 'Bwd IAT Min',\n",
    "'Fwd PSH Flags': 'Fwd PSH Flags',\n",
    "'Bwd PSH Flags': 'Bwd PSH Flags',\n",
    "'Fwd URG Flags': 'Fwd URG Flags',\n",
    "'Bwd URG Flags': 'Bwd URG Flags',\n",
    "'Fwd Header Length': 'Fwd Header Length',\n",
    "'Fwd Header Len': 'Fwd Header Length',\n",
    "'Bwd Header Length': 'Bwd Header Length',\n",
    "'Bwd Header Len': 'Bwd Header Length',\n",
    "'Fwd Packets/s': 'Fwd Packets/s',\n",
    "'Fwd Pkts/s': 'Fwd Packets/s',\n",
    "'Bwd Packets/s': 'Bwd Packets/s',\n",
    "'Bwd Pkts/s': 'Bwd Packets/s',\n",
    "'Min Packet Length': 'Packet Length Min',\n",
    "'Pkt Len Min': 'Packet Length Min',\n",
    "'Max Packet Length': 'Packet Length Max',\n",
    "'Pkt Len Max': 'Packet Length Max',\n",
    "'Packet Length Mean': 'Packet Length Mean',\n",
    "'Pkt Len Mean': 'Packet Length Mean',\n",
    "'Packet Length Std': 'Packet Length Std',\n",
    "'Pkt Len Std': 'Packet Length Std',\n",
    "'Packet Length Variance': 'Packet Length Variance',\n",
    "'Pkt Len Var': 'Packet Length Variance',\n",
    "'FIN Flag Count': 'FIN Flag Count',\n",
    "'FIN Flag Cnt': 'FIN Flag Count',\n",
    "'SYN Flag Count': 'SYN Flag Count',\n",
    "'SYN Flag Cnt': 'SYN Flag Count',\n",
    "'RST Flag Count': 'RST Flag Count',\n",
    "'RST Flag Cnt': 'RST Flag Count',\n",
    "'PSH Flag Count': 'PSH Flag Count',\n",
    "'PSH Flag Cnt': 'PSH Flag Count',\n",
    "'ACK Flag Count': 'ACK Flag Count',\n",
    "'ACK Flag Cnt': 'ACK Flag Count',\n",
    "'URG Flag Count': 'URG Flag Count',\n",
    "'URG Flag Cnt': 'URG Flag Count',\n",
    "'CWE Flag Count': 'CWE Flag Count',\n",
    "'CWE Flag Cnt': 'CWE Flag Count',\n",
    "'ECE Flag Count': 'ECE Flag Count',\n",
    "'ECE Flag Cnt': 'ECE Flag Count',\n",
    "'Down/Up Ratio': 'Down/Up Ratio',\n",
    "'Average Packet Size': 'Avg Packet Size',\n",
    "'Pkt Size Avg': 'Avg Packet Size',\n",
    "'Avg Fwd Segment Size': 'Avg Fwd Segment Size',\n",
    "'Fwd Seg Size Avg': 'Avg Fwd Segment Size',\n",
    "'Avg Bwd Segment Size': 'Avg Bwd Segment Size',\n",
    "'Bwd Seg Size Avg': 'Avg Bwd Segment Size',\n",
    "'Fwd Avg Bytes/Bulk': 'Fwd Avg Bytes/Bulk',\n",
    "'Fwd Byts/b Avg': 'Fwd Avg Bytes/Bulk',\n",
    "'Fwd Avg Packets/Bulk': 'Fwd Avg Packets/Bulk',\n",
    "'Fwd Pkts/b Avg': 'Fwd Avg Packets/Bulk',\n",
    "'Fwd Avg Bulk Rate': 'Fwd Avg Bulk Rate',\n",
    "'Fwd Blk Rate Avg': 'Fwd Avg Bulk Rate',\n",
    "'Bwd Avg Bytes/Bulk': 'Bwd Avg Bytes/Bulk',\n",
    "'Bwd Byts/b Avg': 'Bwd Avg Bytes/Bulk',\n",
    "'Bwd Avg Packets/Bulk': 'Bwd Avg Packets/Bulk',\n",
    "'Bwd Pkts/b Avg': 'Bwd Avg Packets/Bulk',\n",
    "'Bwd Avg Bulk Rate': 'Bwd Avg Bulk Rate',\n",
    "'Bwd Blk Rate Avg': 'Bwd Avg Bulk Rate',\n",
    "'Subflow Fwd Packets': 'Subflow Fwd Packets',\n",
    "'Subflow Fwd Pkts': 'Subflow Fwd Packets',\n",
    "'Subflow Fwd Bytes': 'Subflow Fwd Bytes',\n",
    "'Subflow Fwd Byts': 'Subflow Fwd Bytes',\n",
    "'Subflow Bwd Packets': 'Subflow Bwd Packets',\n",
    "'Subflow Bwd Pkts': 'Subflow Bwd Packets',\n",
    "'Subflow Bwd Bytes': 'Subflow Bwd Bytes',\n",
    "'Subflow Bwd Byts': 'Subflow Bwd Bytes',\n",
    "'Init_Win_bytes_forward': 'Init Fwd Win Bytes',\n",
    "'Init Fwd Win Byts': 'Init Fwd Win Bytes',\n",
    "'Init_Win_bytes_backward': 'Init Bwd Win Bytes',\n",
    "'Init Bwd Win Byts': 'Init Bwd Win Bytes',\n",
    "'act_data_pkt_fwd': 'Fwd Act Data Packets',\n",
    "'Fwd Act Data Pkts': 'Fwd Act Data Packets',\n",
    "'min_seg_size_forward': 'Fwd Seg Size Min',\n",
    "'Fwd Seg Size Min': 'Fwd Seg Size Min',\n",
    "'Active Mean': 'Active Mean',\n",
    "'Active Std': 'Active Std',\n",
    "'Active Max': 'Active Max',\n",
    "'Active Min': 'Active Min',\n",
    "'Idle Mean': 'Idle Mean',\n",
    "'Idle Std': 'Idle Std',\n",
    "'Idle Max': 'Idle Max',\n",
    "'Idle Min': 'Idle Min',\n",
    "'Label': 'Label'\n",
    "}"
   ]
  },
  {
   "cell_type": "code",
   "execution_count": 4,
   "id": "a2164524",
   "metadata": {
    "execution": {
     "iopub.execute_input": "2022-08-08T18:15:20.405066Z",
     "iopub.status.busy": "2022-08-08T18:15:20.404077Z",
     "iopub.status.idle": "2022-08-08T18:15:20.411116Z",
     "shell.execute_reply": "2022-08-08T18:15:20.409920Z"
    },
    "papermill": {
     "duration": 0.017718,
     "end_time": "2022-08-08T18:15:20.414049",
     "exception": false,
     "start_time": "2022-08-08T18:15:20.396331",
     "status": "completed"
    },
    "tags": []
   },
   "outputs": [],
   "source": [
    "drop_columns = [ # this list includes all spellings across CIC NIDS datasets\n",
    "    \"Flow ID\",    \n",
    "    'Fwd Header Length.1',\n",
    "    \"Source IP\", \"Src IP\",\n",
    "    \"Source Port\", \"Src Port\",\n",
    "    \"Destination IP\", \"Dst IP\",\n",
    "    \"Destination Port\", \"Dst Port\",\n",
    "    \"Timestamp\",\n",
    "]"
   ]
  },
  {
   "cell_type": "markdown",
   "id": "9055795a",
   "metadata": {
    "papermill": {
     "duration": 0.005483,
     "end_time": "2022-08-08T18:15:20.425492",
     "exception": false,
     "start_time": "2022-08-08T18:15:20.420009",
     "status": "completed"
    },
    "tags": []
   },
   "source": [
    "## Just reading the data\n",
    "It's in standard CSV format"
   ]
  },
  {
   "cell_type": "code",
   "execution_count": 5,
   "id": "654ee492",
   "metadata": {
    "execution": {
     "iopub.execute_input": "2022-08-08T18:15:20.439449Z",
     "iopub.status.busy": "2022-08-08T18:15:20.439048Z",
     "iopub.status.idle": "2022-08-08T18:16:02.745880Z",
     "shell.execute_reply": "2022-08-08T18:16:02.743613Z"
    },
    "papermill": {
     "duration": 42.329187,
     "end_time": "2022-08-08T18:16:02.760957",
     "exception": false,
     "start_time": "2022-08-08T18:15:20.431770",
     "status": "completed"
    },
    "tags": []
   },
   "outputs": [
    {
     "data": {
      "text/plain": [
       "[(286467, 84),\n",
       " (529918, 84),\n",
       " (225745, 84),\n",
       " (288602, 84),\n",
       " (170366, 84),\n",
       " (692703, 84),\n",
       " (191033, 84),\n",
       " (445909, 84)]"
      ]
     },
     "execution_count": 5,
     "metadata": {},
     "output_type": "execute_result"
    }
   ],
   "source": [
    "individual_dfs = [pd.read_csv(dsp, sep=',', encoding='utf-8') for dsp in dspaths]\n",
    "[i.shape for i in individual_dfs]"
   ]
  },
  {
   "cell_type": "markdown",
   "id": "9fabf7e8",
   "metadata": {
    "papermill": {
     "duration": 0.005892,
     "end_time": "2022-08-08T18:16:02.773981",
     "exception": false,
     "start_time": "2022-08-08T18:16:02.768089",
     "status": "completed"
    },
    "tags": []
   },
   "source": [
    "## Drops and Renames\n",
    "Some columns are not intended for use because they are metadata. Flow ID, IP addresses, timestamps, etc.\n",
    "\n",
    "If you are unsure why source and destination port are also removed you can read [Establishing the Contaminating Effect of Metadata Feature Inclusion in Machine-Learned Network Intrusion Detection Models](https://link.springer.com/chapter/10.1007/978-3-031-09484-2_2). In short: any included metadata feature will act as a (very) powerful shortcut predictor."
   ]
  },
  {
   "cell_type": "code",
   "execution_count": 6,
   "id": "d422c41a",
   "metadata": {
    "execution": {
     "iopub.execute_input": "2022-08-08T18:16:02.788859Z",
     "iopub.status.busy": "2022-08-08T18:16:02.788349Z",
     "iopub.status.idle": "2022-08-08T18:16:04.086178Z",
     "shell.execute_reply": "2022-08-08T18:16:04.084556Z"
    },
    "papermill": {
     "duration": 1.309007,
     "end_time": "2022-08-08T18:16:04.089047",
     "exception": false,
     "start_time": "2022-08-08T18:16:02.780040",
     "status": "completed"
    },
    "tags": []
   },
   "outputs": [
    {
     "data": {
      "text/plain": [
       "[(286467, 78),\n",
       " (529918, 78),\n",
       " (225745, 78),\n",
       " (288602, 78),\n",
       " (170366, 78),\n",
       " (692703, 78),\n",
       " (191033, 78),\n",
       " (445909, 78)]"
      ]
     },
     "execution_count": 6,
     "metadata": {},
     "output_type": "execute_result"
    }
   ],
   "source": [
    "for df in individual_dfs:\n",
    "    df.columns = df.columns.str.strip() # sometimes there's leading / trailing whitespace\n",
    "    df.drop(columns=drop_columns, inplace=True, errors='ignore')    \n",
    "    df.rename(columns=col_name_consistency, inplace=True)\n",
    "    df['Label'].replace({'BENIGN': 'Benign'}, inplace=True)\n",
    "[i.shape for i in individual_dfs]"
   ]
  },
  {
   "cell_type": "code",
   "execution_count": 7,
   "id": "23618236",
   "metadata": {
    "execution": {
     "iopub.execute_input": "2022-08-08T18:16:04.104397Z",
     "iopub.status.busy": "2022-08-08T18:16:04.103458Z",
     "iopub.status.idle": "2022-08-08T18:16:04.119527Z",
     "shell.execute_reply": "2022-08-08T18:16:04.118018Z"
    },
    "papermill": {
     "duration": 0.027448,
     "end_time": "2022-08-08T18:16:04.122826",
     "exception": false,
     "start_time": "2022-08-08T18:16:04.095378",
     "status": "completed"
    },
    "tags": []
   },
   "outputs": [
    {
     "data": {
      "text/plain": [
       "Protocol                      int64\n",
       "Flow Duration                 int64\n",
       "Total Fwd Packets             int64\n",
       "Total Backward Packets        int64\n",
       "Fwd Packets Length Total      int64\n",
       "                             ...   \n",
       "Idle Mean                   float64\n",
       "Idle Std                    float64\n",
       "Idle Max                      int64\n",
       "Idle Min                      int64\n",
       "Label                        object\n",
       "Length: 78, dtype: object"
      ]
     },
     "execution_count": 7,
     "metadata": {},
     "output_type": "execute_result"
    }
   ],
   "source": [
    "individual_dfs[0].dtypes"
   ]
  },
  {
   "cell_type": "markdown",
   "id": "d7359466",
   "metadata": {
    "papermill": {
     "duration": 0.006151,
     "end_time": "2022-08-08T18:16:04.136304",
     "exception": false,
     "start_time": "2022-08-08T18:16:04.130153",
     "status": "completed"
    },
    "tags": []
   },
   "source": [
    "## Downsizing\n",
    "The individual frames are optimized by downsizing their types to more appropriate forms than the default float64, int64 or object (str) types. "
   ]
  },
  {
   "cell_type": "code",
   "execution_count": 8,
   "id": "b806c8fa",
   "metadata": {
    "execution": {
     "iopub.execute_input": "2022-08-08T18:16:04.157175Z",
     "iopub.status.busy": "2022-08-08T18:16:04.156333Z",
     "iopub.status.idle": "2022-08-08T18:16:17.927442Z",
     "shell.execute_reply": "2022-08-08T18:16:17.926081Z"
    },
    "papermill": {
     "duration": 13.786764,
     "end_time": "2022-08-08T18:16:17.930324",
     "exception": false,
     "start_time": "2022-08-08T18:16:04.143560",
     "status": "completed"
    },
    "tags": []
   },
   "outputs": [
    {
     "data": {
      "text/html": [
       "\n",
       "<style>\n",
       "    /* Turns off some styling */\n",
       "    progress {\n",
       "        /* gets rid of default border in Firefox and Opera. */\n",
       "        border: none;\n",
       "        /* Needs to be in here for Safari polyfill so background images work as expected. */\n",
       "        background-size: auto;\n",
       "    }\n",
       "    .progress-bar-interrupted, .progress-bar-interrupted::-webkit-progress-bar {\n",
       "        background: #F44336;\n",
       "    }\n",
       "</style>\n"
      ],
      "text/plain": [
       "<IPython.core.display.HTML object>"
      ]
     },
     "metadata": {},
     "output_type": "display_data"
    },
    {
     "data": {
      "text/html": [],
      "text/plain": [
       "<IPython.core.display.HTML object>"
      ]
     },
     "metadata": {},
     "output_type": "display_data"
    }
   ],
   "source": [
    "individual_dfs = parallel(f=df_shrink, items=individual_dfs, progress=True)"
   ]
  },
  {
   "cell_type": "code",
   "execution_count": 9,
   "id": "f1c87cf2",
   "metadata": {
    "execution": {
     "iopub.execute_input": "2022-08-08T18:16:17.947033Z",
     "iopub.status.busy": "2022-08-08T18:16:17.945915Z",
     "iopub.status.idle": "2022-08-08T18:16:17.958663Z",
     "shell.execute_reply": "2022-08-08T18:16:17.957306Z"
    },
    "papermill": {
     "duration": 0.024458,
     "end_time": "2022-08-08T18:16:17.962108",
     "exception": false,
     "start_time": "2022-08-08T18:16:17.937650",
     "status": "completed"
    },
    "tags": []
   },
   "outputs": [
    {
     "data": {
      "text/plain": [
       "Protocol                        int8\n",
       "Flow Duration                  int32\n",
       "Total Fwd Packets              int16\n",
       "Total Backward Packets         int16\n",
       "Fwd Packets Length Total       int32\n",
       "                              ...   \n",
       "Idle Mean                    float32\n",
       "Idle Std                     float32\n",
       "Idle Max                       int32\n",
       "Idle Min                       int32\n",
       "Label                       category\n",
       "Length: 78, dtype: object"
      ]
     },
     "execution_count": 9,
     "metadata": {},
     "output_type": "execute_result"
    }
   ],
   "source": [
    "individual_dfs[0].dtypes"
   ]
  },
  {
   "cell_type": "markdown",
   "id": "c6b0bbc4",
   "metadata": {
    "papermill": {
     "duration": 0.006754,
     "end_time": "2022-08-08T18:16:17.975464",
     "exception": false,
     "start_time": "2022-08-08T18:16:17.968710",
     "status": "completed"
    },
    "tags": []
   },
   "source": [
    "## Removing NaN\n"
   ]
  },
  {
   "cell_type": "code",
   "execution_count": 10,
   "id": "d014d777",
   "metadata": {
    "execution": {
     "iopub.execute_input": "2022-08-08T18:16:17.991733Z",
     "iopub.status.busy": "2022-08-08T18:16:17.990889Z",
     "iopub.status.idle": "2022-08-08T18:16:19.888452Z",
     "shell.execute_reply": "2022-08-08T18:16:19.887267Z"
    },
    "papermill": {
     "duration": 1.908895,
     "end_time": "2022-08-08T18:16:19.890970",
     "exception": false,
     "start_time": "2022-08-08T18:16:17.982075",
     "status": "completed"
    },
    "tags": []
   },
   "outputs": [
    {
     "data": {
      "text/plain": [
       "[(286096, 78),\n",
       " (529481, 78),\n",
       " (225711, 78),\n",
       " (288395, 78),\n",
       " (170231, 78),\n",
       " (691406, 78),\n",
       " (190911, 78),\n",
       " (445645, 78)]"
      ]
     },
     "execution_count": 10,
     "metadata": {},
     "output_type": "execute_result"
    }
   ],
   "source": [
    "for df in individual_dfs:\n",
    "    df.replace([np.inf, -np.inf], np.nan, inplace=True)    \n",
    "    # print(df.isna().any(axis=1).sum(), \"rows with at least one NaN to remove\")\n",
    "    df.dropna(inplace=True)    \n",
    "[i.shape for i in individual_dfs]"
   ]
  },
  {
   "cell_type": "markdown",
   "id": "5ec8767e",
   "metadata": {
    "papermill": {
     "duration": 0.006541,
     "end_time": "2022-08-08T18:16:19.904171",
     "exception": false,
     "start_time": "2022-08-08T18:16:19.897630",
     "status": "completed"
    },
    "tags": []
   },
   "source": [
    "## Dropping duplicates\n",
    "There should be no duplicates because they can bias training and can lead to over-optimistic estimates of classification performance during testing."
   ]
  },
  {
   "cell_type": "code",
   "execution_count": 11,
   "id": "095ee163",
   "metadata": {
    "execution": {
     "iopub.execute_input": "2022-08-08T18:16:19.919273Z",
     "iopub.status.busy": "2022-08-08T18:16:19.918868Z",
     "iopub.status.idle": "2022-08-08T18:16:38.530089Z",
     "shell.execute_reply": "2022-08-08T18:16:38.528796Z"
    },
    "papermill": {
     "duration": 18.621946,
     "end_time": "2022-08-08T18:16:38.532876",
     "exception": false,
     "start_time": "2022-08-08T18:16:19.910930",
     "status": "completed"
    },
    "tags": []
   },
   "outputs": [
    {
     "name": "stdout",
     "output_type": "stream",
     "text": [
      "166574 fully duplicate rows to remove\n",
      "70650 fully duplicate rows to remove\n",
      "4447 fully duplicate rows to remove\n",
      "80765 fully duplicate rows to remove\n",
      "14411 fully duplicate rows to remove\n",
      "106415 fully duplicate rows to remove\n",
      "14873 fully duplicate rows to remove\n",
      "55931 fully duplicate rows to remove\n"
     ]
    },
    {
     "data": {
      "text/plain": [
       "[(119522, 78),\n",
       " (458831, 78),\n",
       " (221264, 78),\n",
       " (207630, 78),\n",
       " (155820, 78),\n",
       " (584991, 78),\n",
       " (176038, 78),\n",
       " (389714, 78)]"
      ]
     },
     "execution_count": 11,
     "metadata": {},
     "output_type": "execute_result"
    }
   ],
   "source": [
    "for df in individual_dfs:\n",
    "    print(df.duplicated().sum(), \"fully duplicate rows to remove\")\n",
    "    df.drop_duplicates(inplace=True)\n",
    "    df.reset_index(inplace=True, drop=True)\n",
    "[i.shape for i in individual_dfs]"
   ]
  },
  {
   "cell_type": "code",
   "execution_count": 12,
   "id": "7bec3efd",
   "metadata": {
    "execution": {
     "iopub.execute_input": "2022-08-08T18:16:38.552083Z",
     "iopub.status.busy": "2022-08-08T18:16:38.551085Z",
     "iopub.status.idle": "2022-08-08T18:16:46.081371Z",
     "shell.execute_reply": "2022-08-08T18:16:46.079961Z"
    },
    "papermill": {
     "duration": 7.542813,
     "end_time": "2022-08-08T18:16:46.084263",
     "exception": false,
     "start_time": "2022-08-08T18:16:38.541450",
     "status": "completed"
    },
    "tags": []
   },
   "outputs": [],
   "source": [
    "for i, df in enumerate(individual_dfs):\n",
    "    df.to_parquet(f\"/kaggle/working/{dspaths[i].split('/')[-1].replace('.csv', '.parquet')}\")"
   ]
  },
  {
   "cell_type": "markdown",
   "id": "e880976e",
   "metadata": {
    "papermill": {
     "duration": 0.007003,
     "end_time": "2022-08-08T18:16:46.098826",
     "exception": false,
     "start_time": "2022-08-08T18:16:46.091823",
     "status": "completed"
    },
    "tags": []
   },
   "source": [
    "There's around a **75% reduction in disk space** used and a **97% reduction in future load times** for the same data."
   ]
  },
  {
   "cell_type": "code",
   "execution_count": 13,
   "id": "bdb4e101",
   "metadata": {
    "execution": {
     "iopub.execute_input": "2022-08-08T18:16:46.116603Z",
     "iopub.status.busy": "2022-08-08T18:16:46.116192Z",
     "iopub.status.idle": "2022-08-08T18:16:47.326699Z",
     "shell.execute_reply": "2022-08-08T18:16:47.325380Z"
    },
    "papermill": {
     "duration": 1.222497,
     "end_time": "2022-08-08T18:16:47.329354",
     "exception": false,
     "start_time": "2022-08-08T18:16:46.106857",
     "status": "completed"
    },
    "tags": []
   },
   "outputs": [
    {
     "name": "stdout",
     "output_type": "stream",
     "text": [
      "total 1.4G\r\n",
      "-rw-r--r-- 1 nobody nogroup 221M Aug  8 18:14 Benign-Monday-WorkingHours.pcap_ISCX.csv\r\n",
      "-rw-r--r-- 1 nobody nogroup 270M Aug  8 18:14 DoS-Wednesday-WorkingHours.pcap_ISCX.csv\r\n",
      "-rw-r--r-- 1 nobody nogroup 165M Aug  8 18:14 Bruteforce-Tuesday-WorkingHours.pcap_ISCX.csv\r\n",
      "-rw-r--r-- 1 nobody nogroup  97M Aug  8 18:14 Portscan-Friday-WorkingHours-Afternoon.pcap_ISCX.csv\r\n",
      "-rw-r--r-- 1 nobody nogroup 103M Aug  8 18:14 Infiltration-Thursday-WorkingHours-Afternoon.pcap_ISCX.csv\r\n",
      "-rw-r--r-- 1 nobody nogroup  91M Aug  8 18:14 DDoS-Friday-WorkingHours-Afternoon.pcap_ISCX.csv\r\n",
      "-rw-r--r-- 1 nobody nogroup  66M Aug  8 18:14 DoS-Wednesday-no-metadata.parquet\r\n",
      "-rw-r--r-- 1 nobody nogroup  72M Aug  8 18:14 Botnet-Friday-WorkingHours-Morning.pcap_ISCX.csv\r\n",
      "-rw-r--r-- 1 nobody nogroup  64M Aug  8 18:14 WebAttacks-Thursday-WorkingHours-Morning.pcap_ISCX.csv\r\n",
      "-rw-r--r-- 1 nobody nogroup  55M Aug  8 18:14 Benign-Monday-no-metadata.parquet\r\n",
      "-rw-r--r-- 1 nobody nogroup  45M Aug  8 18:14 Bruteforce-Tuesday-no-metadata.parquet\r\n",
      "-rw-r--r-- 1 nobody nogroup  19M Aug  8 18:14 Botnet-Friday-no-metadata.parquet\r\n",
      "-rw-r--r-- 1 nobody nogroup  25M Aug  8 18:14 DDoS-Friday-no-metadata.parquet\r\n",
      "-rw-r--r-- 1 nobody nogroup  23M Aug  8 18:14 Infiltration-Thursday-no-metadata.parquet\r\n",
      "-rw-r--r-- 1 nobody nogroup  17M Aug  8 18:14 WebAttacks-Thursday-no-metadata.parquet\r\n",
      "-rw-r--r-- 1 nobody nogroup  13M Aug  8 18:14 Portscan-Friday-no-metadata.parquet\r\n"
     ]
    }
   ],
   "source": [
    "!ls -lth /kaggle/input/cicids2017"
   ]
  },
  {
   "cell_type": "code",
   "execution_count": 14,
   "id": "67edf5d4",
   "metadata": {
    "execution": {
     "iopub.execute_input": "2022-08-08T18:16:47.346138Z",
     "iopub.status.busy": "2022-08-08T18:16:47.345718Z",
     "iopub.status.idle": "2022-08-08T18:16:48.524776Z",
     "shell.execute_reply": "2022-08-08T18:16:48.523081Z"
    },
    "papermill": {
     "duration": 1.190818,
     "end_time": "2022-08-08T18:16:48.527596",
     "exception": false,
     "start_time": "2022-08-08T18:16:47.336778",
     "status": "completed"
    },
    "tags": []
   },
   "outputs": [
    {
     "name": "stdout",
     "output_type": "stream",
     "text": [
      "total 259M\r\n",
      "---------- 1 root root 32K Aug  8 18:16 __notebook__.ipynb\r\n",
      "-rw-r--r-- 1 root root 45M Aug  8 18:16 Bruteforce-Tuesday-WorkingHours.pcap_ISCX.parquet\r\n",
      "-rw-r--r-- 1 root root 19M Aug  8 18:16 Botnet-Friday-WorkingHours-Morning.pcap_ISCX.parquet\r\n",
      "-rw-r--r-- 1 root root 66M Aug  8 18:16 DoS-Wednesday-WorkingHours.pcap_ISCX.parquet\r\n",
      "-rw-r--r-- 1 root root 17M Aug  8 18:16 WebAttacks-Thursday-WorkingHours-Morning.pcap_ISCX.parquet\r\n",
      "-rw-r--r-- 1 root root 23M Aug  8 18:16 Infiltration-Thursday-WorkingHours-Afternoon.pcap_ISCX.parquet\r\n",
      "-rw-r--r-- 1 root root 25M Aug  8 18:16 DDoS-Friday-WorkingHours-Afternoon.pcap_ISCX.parquet\r\n",
      "-rw-r--r-- 1 root root 55M Aug  8 18:16 Benign-Monday-WorkingHours.pcap_ISCX.parquet\r\n",
      "-rw-r--r-- 1 root root 13M Aug  8 18:16 Portscan-Friday-WorkingHours-Afternoon.pcap_ISCX.parquet\r\n"
     ]
    }
   ],
   "source": [
    "!ls -lth /kaggle/working"
   ]
  },
  {
   "cell_type": "code",
   "execution_count": 15,
   "id": "f22cadac",
   "metadata": {
    "execution": {
     "iopub.execute_input": "2022-08-08T18:16:48.546160Z",
     "iopub.status.busy": "2022-08-08T18:16:48.545186Z",
     "iopub.status.idle": "2022-08-08T18:17:22.493680Z",
     "shell.execute_reply": "2022-08-08T18:17:22.491984Z"
    },
    "papermill": {
     "duration": 33.96777,
     "end_time": "2022-08-08T18:17:22.503061",
     "exception": false,
     "start_time": "2022-08-08T18:16:48.535291",
     "status": "completed"
    },
    "tags": []
   },
   "outputs": [
    {
     "name": "stdout",
     "output_type": "stream",
     "text": [
      "4.27 s ± 243 ms per loop (mean ± std. dev. of 7 runs, 1 loop each)\n"
     ]
    }
   ],
   "source": [
    "%timeit pd.read_csv('/kaggle/input/cicids2017/Bruteforce-Tuesday-WorkingHours.pcap_ISCX.csv', encoding='utf-8')"
   ]
  },
  {
   "cell_type": "code",
   "execution_count": 16,
   "id": "c8d812d6",
   "metadata": {
    "execution": {
     "iopub.execute_input": "2022-08-08T18:17:22.523815Z",
     "iopub.status.busy": "2022-08-08T18:17:22.523070Z",
     "iopub.status.idle": "2022-08-08T18:17:23.684470Z",
     "shell.execute_reply": "2022-08-08T18:17:23.682472Z"
    },
    "papermill": {
     "duration": 1.176478,
     "end_time": "2022-08-08T18:17:23.688649",
     "exception": false,
     "start_time": "2022-08-08T18:17:22.512171",
     "status": "completed"
    },
    "tags": []
   },
   "outputs": [
    {
     "name": "stdout",
     "output_type": "stream",
     "text": [
      "124 ms ± 14.1 ms per loop (mean ± std. dev. of 7 runs, 1 loop each)\n"
     ]
    }
   ],
   "source": [
    "%timeit pd.read_parquet('/kaggle/working/Bruteforce-Tuesday-WorkingHours.pcap_ISCX.parquet')"
   ]
  }
 ],
 "metadata": {
  "kernelspec": {
   "display_name": "Python 3 (ipykernel)",
   "language": "python",
   "name": "python3"
  },
  "language_info": {
   "codemirror_mode": {
    "name": "ipython",
    "version": 3
   },
   "file_extension": ".py",
   "mimetype": "text/x-python",
   "name": "python",
   "nbconvert_exporter": "python",
   "pygments_lexer": "ipython3",
   "version": "3.9.17"
  },
  "papermill": {
   "default_parameters": {},
   "duration": 140.143247,
   "end_time": "2022-08-08T18:17:25.228478",
   "environment_variables": {},
   "exception": null,
   "input_path": "__notebook__.ipynb",
   "output_path": "__notebook__.ipynb",
   "parameters": {},
   "start_time": "2022-08-08T18:15:05.085231",
   "version": "2.3.4"
  }
 },
 "nbformat": 4,
 "nbformat_minor": 5
}
