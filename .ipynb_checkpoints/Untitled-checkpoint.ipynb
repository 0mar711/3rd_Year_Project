{
 "cells": [
  {
   "cell_type": "markdown",
   "id": "6349e609-913d-4963-ad8a-434617f389ee",
   "metadata": {},
   "source": [
    "# Explainer Dashboard website development"
   ]
  },
  {
   "cell_type": "code",
   "execution_count": 2,
   "id": "83fb1f98-0144-48eb-9d7e-5e9df2b0cc6f",
   "metadata": {},
   "outputs": [
    {
     "name": "stderr",
     "output_type": "stream",
     "text": [
      "IProgress not found. Please update jupyter and ipywidgets. See https://ipywidgets.readthedocs.io/en/stable/user_install.html\n"
     ]
    }
   ],
   "source": [
    "import numpy as np\n",
    "import pandas as pd\n",
    "import tensorflow as tf\n",
    "from explainerdashboard import ClassifierExplainer, ExplainerDashboard\n"
   ]
  },
  {
   "cell_type": "markdown",
   "id": "0b47658e-07c1-4978-a2c0-a44a4c926865",
   "metadata": {},
   "source": [
    "## Load UNSW Models and test train split"
   ]
  },
  {
   "cell_type": "code",
   "execution_count": null,
   "id": "21d67252-56bc-415c-a4fe-f0f9e50202d5",
   "metadata": {},
   "outputs": [],
   "source": []
  },
  {
   "cell_type": "code",
   "execution_count": 3,
   "id": "b1410e22-e7b0-4a59-9d3c-0e99e6bae944",
   "metadata": {},
   "outputs": [],
   "source": [
    "from joblib import load\n",
    "rf_classifier_UNSW_Default = load('datasets/explainerDashboardFiles/rf_classifierdefaultUNSW.joblib')\n"
   ]
  },
  {
   "cell_type": "code",
   "execution_count": 4,
   "id": "309469a8-752d-4149-9ed5-cd25b45b3051",
   "metadata": {},
   "outputs": [],
   "source": [
    "# Load the datasets\n",
    "X_trainUNSW = pd.read_parquet('datasets/explainerDashboardFiles/X_trainUNSW.parquet')\n",
    "X_testUNSW = pd.read_parquet('datasets/explainerDashboardFiles/X_testUNSW.parquet')\n",
    "y_train_loaded = pd.read_parquet('datasets/explainerDashboardFiles/y_trainUNSW.parquet')\n",
    "y_test_loaded = pd.read_parquet('datasets/explainerDashboardFiles/y_testUNSW.parquet')"
   ]
  },
  {
   "cell_type": "code",
   "execution_count": 5,
   "id": "8b40288a-daec-4ae4-9e96-212f56f5f35c",
   "metadata": {},
   "outputs": [],
   "source": [
    "y_trainUNSW = y_train_loaded['target']\n",
    "y_testUNSW = y_test_loaded['target']"
   ]
  },
  {
   "cell_type": "code",
   "execution_count": 6,
   "id": "6b2b102f-8866-4e08-8ffb-5a9d219df5d1",
   "metadata": {},
   "outputs": [],
   "source": [
    "# Assuming y_testUNSW is loaded and might be a DataFrame instead of a Series\n",
    "# Ensure y_testUNSW is a Series with string labels\n",
    "if isinstance(y_testUNSW, pd.DataFrame):\n",
    "    y_testUNSW = y_testUNSW['target']  # Adjust 'target' to your actual column name"
   ]
  },
  {
   "cell_type": "code",
   "execution_count": 7,
   "id": "e55aee67-83c8-4f7f-bf3c-9f1f70a88aa8",
   "metadata": {},
   "outputs": [],
   "source": [
    "from sklearn.preprocessing import LabelEncoder\n",
    "# Initialize the encoder\n",
    "label_encoder = LabelEncoder()\n",
    "\n",
    "# Fit the encoder to the test labels\n",
    "# This assumes y_testUNSW is a pandas Series. If it's not, adjust accordingly.\n",
    "label_encoder.fit(y_testUNSW)\n",
    "\n",
    "# Encode the test labels\n",
    "y_testUNSW_encoded = label_encoder.transform(y_testUNSW)"
   ]
  },
  {
   "cell_type": "code",
   "execution_count": 8,
   "id": "a087aa67-d6f8-4bc3-83bf-bfbdfd3f01bd",
   "metadata": {},
   "outputs": [],
   "source": [
    "import pandas as pd\n",
    "from sklearn.model_selection import train_test_split\n",
    "\n",
    "# Assuming X_testUNSW and y_testUNSW are loaded as shown in your code\n",
    "\n",
    "# Reduce the test set to 5% of its original size, maintaining the class ratio\n",
    "X_testUNSW_reduced, _, y_testUNSW_reduced, _ = train_test_split(\n",
    "    X_testUNSW, \n",
    "    y_testUNSW_encoded, \n",
    "    test_size=0.05,  # Keep 5% of the original size\n",
    "    stratify=y_testUNSW,  # Stratify by y_testUNSW to keep the class ratio\n",
    "    random_state=42  # For reproducibility\n",
    ")"
   ]
  },
  {
   "cell_type": "markdown",
   "id": "1055f709-afae-4ae9-8dd8-20a34e39dbc0",
   "metadata": {},
   "source": [
    "## Initiate explainer"
   ]
  },
  {
   "cell_type": "code",
   "execution_count": 9,
   "id": "7e873f0e-3b76-4e98-8482-786cb95b5640",
   "metadata": {},
   "outputs": [
    {
     "name": "stdout",
     "output_type": "stream",
     "text": [
      "Detected RandomForestClassifier model: Changing class type to RandomForestClassifierExplainer...\n",
      "Note: model_output=='probability', so assuming that raw shap output of RandomForestClassifier is in probability space...\n",
      "Generating self.shap_explainer = shap.TreeExplainer(model)\n"
     ]
    }
   ],
   "source": [
    "class_labels = y_trainUNSW.unique().tolist()\n",
    "\n",
    "explainer = ClassifierExplainer(\n",
    "    model=rf_classifier_UNSW_Default,\n",
    "    X=X_testUNSW_reduced,\n",
    "    y=y_testUNSW_reduced,\n",
    "    labels=class_labels \n",
    "# Pass the list of class labels here# Disable SHAP interaction calculations\n",
    "# Ensure model output is set to probability for classification\n",
    ")"
   ]
  },
  {
   "cell_type": "code",
   "execution_count": null,
   "id": "39242f2f-db88-4359-97eb-ce739ae4962b",
   "metadata": {},
   "outputs": [],
   "source": [
    "dashboard = ExplainerDashboard(explainer, mode='external', shap_interaction=False, no_permutations=True, hide_poweredby=True,\n",
    "                     shap_dependence=False,\n",
    "                    decision_trees=False,\n",
    "                              \n",
    ")\n",
    "dashboard.run(port=8050)  # You can specify a different port if necessary"
   ]
  },
  {
   "cell_type": "code",
   "execution_count": null,
   "id": "54a1b081-7e89-4ce1-ba6d-958d625fbf4f",
   "metadata": {},
   "outputs": [],
   "source": []
  }
 ],
 "metadata": {
  "kernelspec": {
   "display_name": "Python 3 (ipykernel)",
   "language": "python",
   "name": "python3"
  },
  "language_info": {
   "codemirror_mode": {
    "name": "ipython",
    "version": 3
   },
   "file_extension": ".py",
   "mimetype": "text/x-python",
   "name": "python",
   "nbconvert_exporter": "python",
   "pygments_lexer": "ipython3",
   "version": "3.9.18"
  }
 },
 "nbformat": 4,
 "nbformat_minor": 5
}
